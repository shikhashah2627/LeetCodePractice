{
 "cells": [
  {
   "cell_type": "code",
   "execution_count": 1,
   "metadata": {},
   "outputs": [],
   "source": [
    "class Solution:\n",
    "    def lengthOfLongestSubstring(self, s):\n",
    "        \"\"\"\n",
    "        :type s: str\n",
    "        :rtype: int\n",
    "        \"\"\"\n",
    "        word = list(s)\n",
    "        print(word)"
   ]
  },
  {
   "cell_type": "code",
   "execution_count": 2,
   "metadata": {},
   "outputs": [
    {
     "ename": "NameError",
     "evalue": "name 'lengthOfLongestSubstring' is not defined",
     "output_type": "error",
     "traceback": [
      "\u001b[0;31m---------------------------------------------------------------------------\u001b[0m",
      "\u001b[0;31mNameError\u001b[0m                                 Traceback (most recent call last)",
      "\u001b[0;32m<ipython-input-2-02626984370c>\u001b[0m in \u001b[0;36m<module>\u001b[0;34m()\u001b[0m\n\u001b[0;32m----> 1\u001b[0;31m \u001b[0mlengthOfLongestSubstring\u001b[0m\u001b[0;34m(\u001b[0m\u001b[0;34m'shikha'\u001b[0m\u001b[0;34m)\u001b[0m\u001b[0;34m\u001b[0m\u001b[0m\n\u001b[0m",
      "\u001b[0;31mNameError\u001b[0m: name 'lengthOfLongestSubstring' is not defined"
     ]
    }
   ],
   "source": [
    "lengthOfLongestSubstring('shikha')"
   ]
  },
  {
   "cell_type": "code",
   "execution_count": 3,
   "metadata": {},
   "outputs": [
    {
     "name": "stdout",
     "output_type": "stream",
     "text": [
      "['s', 'h', 'i', 'k', 'h', 'a']\n"
     ]
    }
   ],
   "source": [
    "s1 = Solution()\n",
    "s1.lengthOfLongestSubstring('shikha')\n",
    "    "
   ]
  },
  {
   "cell_type": "code",
   "execution_count": 4,
   "metadata": {},
   "outputs": [
    {
     "name": "stdout",
     "output_type": "stream",
     "text": [
      "s\n",
      "h\n",
      "i\n",
      "k\n",
      "h\n",
      "a\n"
     ]
    }
   ],
   "source": [
    "class Solution:\n",
    "    def lengthOfLongestSubstring(self, s):\n",
    "        \"\"\"\n",
    "        :type s: str\n",
    "        :rtype: int\n",
    "        \"\"\"\n",
    "        word = list(s)\n",
    "        for i in word:\n",
    "            print(i)\n",
    "s1 = Solution()\n",
    "s1.lengthOfLongestSubstring('shikha')"
   ]
  },
  {
   "cell_type": "code",
   "execution_count": 7,
   "metadata": {},
   "outputs": [
    {
     "ename": "IndexError",
     "evalue": "list index out of range",
     "output_type": "error",
     "traceback": [
      "\u001b[0;31m---------------------------------------------------------------------------\u001b[0m",
      "\u001b[0;31mIndexError\u001b[0m                                Traceback (most recent call last)",
      "\u001b[0;32m<ipython-input-7-87235a20d1ae>\u001b[0m in \u001b[0;36m<module>\u001b[0;34m()\u001b[0m\n\u001b[1;32m     13\u001b[0m         \u001b[0mprint\u001b[0m\u001b[0;34m(\u001b[0m\u001b[0mlen\u001b[0m\u001b[0;34m(\u001b[0m\u001b[0mnew_changed_list\u001b[0m\u001b[0;34m)\u001b[0m\u001b[0;34m)\u001b[0m\u001b[0;34m\u001b[0m\u001b[0m\n\u001b[1;32m     14\u001b[0m \u001b[0ms1\u001b[0m \u001b[0;34m=\u001b[0m \u001b[0mSolution\u001b[0m\u001b[0;34m(\u001b[0m\u001b[0;34m)\u001b[0m\u001b[0;34m\u001b[0m\u001b[0m\n\u001b[0;32m---> 15\u001b[0;31m \u001b[0ms1\u001b[0m\u001b[0;34m.\u001b[0m\u001b[0mlengthOfLongestSubstring\u001b[0m\u001b[0;34m(\u001b[0m\u001b[0;34m'aab'\u001b[0m\u001b[0;34m)\u001b[0m\u001b[0;34m\u001b[0m\u001b[0m\n\u001b[0m",
      "\u001b[0;32m<ipython-input-7-87235a20d1ae>\u001b[0m in \u001b[0;36mlengthOfLongestSubstring\u001b[0;34m(self, s)\u001b[0m\n\u001b[1;32m      9\u001b[0m         \u001b[0;32mfor\u001b[0m \u001b[0mi\u001b[0m \u001b[0;32min\u001b[0m \u001b[0mword\u001b[0m\u001b[0;34m:\u001b[0m\u001b[0;34m\u001b[0m\u001b[0m\n\u001b[1;32m     10\u001b[0m             \u001b[0mlength_new_list\u001b[0m \u001b[0;34m=\u001b[0m \u001b[0mlen\u001b[0m\u001b[0;34m(\u001b[0m\u001b[0mnew_changed_list\u001b[0m\u001b[0;34m)\u001b[0m\u001b[0;34m\u001b[0m\u001b[0m\n\u001b[0;32m---> 11\u001b[0;31m             \u001b[0;32mif\u001b[0m \u001b[0mi\u001b[0m \u001b[0;34m!=\u001b[0m \u001b[0mnew_changed_list\u001b[0m\u001b[0;34m[\u001b[0m\u001b[0mlength_new_list\u001b[0m\u001b[0;34m]\u001b[0m\u001b[0;34m:\u001b[0m\u001b[0;34m\u001b[0m\u001b[0m\n\u001b[0m\u001b[1;32m     12\u001b[0m                 \u001b[0mnew_changed_list\u001b[0m\u001b[0;34m.\u001b[0m\u001b[0mappend\u001b[0m\u001b[0;34m(\u001b[0m\u001b[0mi\u001b[0m\u001b[0;34m)\u001b[0m\u001b[0;34m\u001b[0m\u001b[0m\n\u001b[1;32m     13\u001b[0m         \u001b[0mprint\u001b[0m\u001b[0;34m(\u001b[0m\u001b[0mlen\u001b[0m\u001b[0;34m(\u001b[0m\u001b[0mnew_changed_list\u001b[0m\u001b[0;34m)\u001b[0m\u001b[0;34m)\u001b[0m\u001b[0;34m\u001b[0m\u001b[0m\n",
      "\u001b[0;31mIndexError\u001b[0m: list index out of range"
     ]
    }
   ],
   "source": [
    "class Solution:\n",
    "    def lengthOfLongestSubstring(self, s):\n",
    "        \"\"\"\n",
    "        :type s: str\n",
    "        :rtype: int\n",
    "        \"\"\"\n",
    "        word = list(s)\n",
    "        new_changed_list = []\n",
    "        for i in word:\n",
    "            length_new_list = len(new_changed_list)\n",
    "            if i != new_changed_list[length_new_list]:\n",
    "                new_changed_list.append(i)\n",
    "        print(len(new_changed_list))\n",
    "s1 = Solution()\n",
    "s1.lengthOfLongestSubstring('aab')"
   ]
  },
  {
   "cell_type": "code",
   "execution_count": 141,
   "metadata": {},
   "outputs": [
    {
     "name": "stdout",
     "output_type": "stream",
     "text": [
      "1\n",
      "bgrovw\n"
     ]
    },
    {
     "data": {
      "text/plain": [
       "6"
      ]
     },
     "execution_count": 141,
     "metadata": {},
     "output_type": "execute_result"
    }
   ],
   "source": [
    "class Solution:\n",
    "    def lengthOfLongestSubstring(self, s):\n",
    "        \"\"\"\n",
    "        :type s: str\n",
    "        :rtype: int\n",
    "        \"\"\"\n",
    "        words_in_set = list(set(s))\n",
    "        given_word_to_list = list(s)\n",
    "        new_generated_list = []\n",
    "        final_joined_word = []\n",
    "        if (len(s) == 1 or len(words_in_set) == 1):\n",
    "            return 1\n",
    "        else:            \n",
    "            if (len(words_in_set) == len(given_word_to_list)):\n",
    "                return len(given_word_to_list)\n",
    "            else:\n",
    "                for value,letter in enumerate(given_word_to_list):\n",
    "                    if letter not in new_generated_list:\n",
    "                        if value == (len(given_word_to_list)-1):\n",
    "                            new_generated_list.append(letter)\n",
    "                            joined_word = ''\n",
    "                            joined_word = joined_word.join(new_generated_list)\n",
    "                            final_joined_word.append(joined_word)\n",
    "                            print(max(final_joined_word,key=len))\n",
    "                            max_length = max(final_joined_word,key=len)\n",
    "                            return len(max_length)\n",
    "                        else:\n",
    "                            new_generated_list.append(letter)\n",
    "                    elif letter == new_generated_list[0]:\n",
    "                        if value == (len(given_word_to_list)-1):\n",
    "                            new_generated_list = new_generated_list[1:]\n",
    "                            #print(\"In else if - if part:\")\n",
    "                            new_generated_list.append(letter)\n",
    "                            #print(new_generated_list)\n",
    "                            joined_word = ''\n",
    "                            joined_word = joined_word.join(new_generated_list)\n",
    "                            final_joined_word.append(joined_word)\n",
    "                            #print(max(final_joined_word,key=len))\n",
    "                            max_length = max(final_joined_word,key=len)\n",
    "                            return len(max_length)\n",
    "                        else:\n",
    "                            new_generated_list = new_generated_list[1:]\n",
    "                            #print(\"In else if part:\")\n",
    "                            new_generated_list.append(letter)\n",
    "                            #print(new_generated_list)                          \n",
    "                    else:\n",
    "                        if value == (len(given_word_to_list)-1):\n",
    "                            #print(value)\n",
    "                            joined_word = ''\n",
    "                            joined_word = joined_word.join(new_generated_list)\n",
    "                            del new_generated_list[:]\n",
    "                            new_generated_list.append(letter)\n",
    "                            final_joined_word.append(joined_word)\n",
    "                            #print(max(final_joined_word,key=len))\n",
    "                            max_length = max(final_joined_word,key=len)\n",
    "                            return len(max_length)\n",
    "                        elif (letter == given_word_to_list[value-1]):\n",
    "                            joined_word = ''\n",
    "                            joined_word = joined_word.join(new_generated_list)\n",
    "                            del new_generated_list[:]\n",
    "                            new_generated_list.append(letter)\n",
    "                            final_joined_word.append(joined_word)\n",
    "                            #print(max(final_joined_word,key=len))\n",
    "                            max_length = max(final_joined_word,key=len)\n",
    "                        else:\n",
    "                            #print(value)\n",
    "                            joined_word = ''\n",
    "                            joined_word = joined_word.join(new_generated_list)\n",
    "                            values_to_remove=new_generated_list.index(letter)\n",
    "                            print(values_to_remove)\n",
    "                            new_generated_list = new_generated_list[(values_to_remove+1):]\n",
    "                            new_generated_list.append(letter)\n",
    "                            final_joined_word.append(joined_word)\n",
    "                            #print(max(final_joined_word,key=len))\n",
    "                            max_length = max(final_joined_word,key=len)\n",
    "                    \n",
    "s1 = Solution()\n",
    "\n",
    "s1.lengthOfLongestSubstring('wobgrovw')"
   ]
  },
  {
   "cell_type": "code",
   "execution_count": 142,
   "metadata": {},
   "outputs": [
    {
     "name": "stdout",
     "output_type": "stream",
     "text": [
      "1\n",
      "vhjdml\n"
     ]
    },
    {
     "data": {
      "text/plain": [
       "6"
      ]
     },
     "execution_count": 142,
     "metadata": {},
     "output_type": "execute_result"
    }
   ],
   "source": [
    "s1.lengthOfLongestSubstring('ohvhjdml')"
   ]
  },
  {
   "cell_type": "code",
   "execution_count": 143,
   "metadata": {},
   "outputs": [
    {
     "data": {
      "text/plain": [
       "3"
      ]
     },
     "execution_count": 143,
     "metadata": {},
     "output_type": "execute_result"
    }
   ],
   "source": [
    "s1.lengthOfLongestSubstring('pwwekw')"
   ]
  },
  {
   "cell_type": "code",
   "execution_count": null,
   "metadata": {},
   "outputs": [],
   "source": []
  },
  {
   "cell_type": "code",
   "execution_count": null,
   "metadata": {},
   "outputs": [],
   "source": []
  },
  {
   "cell_type": "code",
   "execution_count": null,
   "metadata": {},
   "outputs": [],
   "source": []
  }
 ],
 "metadata": {
  "kernelspec": {
   "display_name": "Python 3",
   "language": "python",
   "name": "python3"
  },
  "language_info": {
   "codemirror_mode": {
    "name": "ipython",
    "version": 3
   },
   "file_extension": ".py",
   "mimetype": "text/x-python",
   "name": "python",
   "nbconvert_exporter": "python",
   "pygments_lexer": "ipython3",
   "version": "3.7.0"
  }
 },
 "nbformat": 4,
 "nbformat_minor": 2
}
