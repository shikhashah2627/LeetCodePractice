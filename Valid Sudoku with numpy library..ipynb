{
 "cells": [
  {
   "cell_type": "code",
   "execution_count": 44,
   "metadata": {},
   "outputs": [
    {
     "data": {
      "text/plain": [
       "True"
      ]
     },
     "execution_count": 44,
     "metadata": {},
     "output_type": "execute_result"
    }
   ],
   "source": [
    "import numpy as np\n",
    "class Solution:\n",
    "    def isValidSudoku(self, board):\n",
    "        \"\"\"\n",
    "        :type board: List[List[str]]\n",
    "        :rtype: bool\n",
    "        \"\"\"\n",
    "        board_rows_without_vacancy = []\n",
    "        board_columns_without_vacancy = []\n",
    "        total_count_of_correct = 0\n",
    "        board_as_array = np.array(board)\n",
    "        boart_transposed_array = np.transpose(board_as_array)\n",
    "        for row_row, row_column in zip(board_as_array, boart_transposed_array):\n",
    "            row_without_vacany = []\n",
    "            column_without_vacancy = []\n",
    "            for row_element,column_element in zip(row_row, row_column):\n",
    "                if (row_element != \".\"):\n",
    "                    row_without_vacany.append(row_element)\n",
    "                if (column_element != \".\"):\n",
    "                    column_without_vacancy.append(column_element) \n",
    "            board_rows_without_vacancy.append(row_without_vacany)\n",
    "            #print(board_rows_without_vacancy)\n",
    "            board_columns_without_vacancy.append(column_without_vacancy)\n",
    "            #print(board_columns_without_vacancy)            \n",
    "        for row_check,column_check in zip(board_rows_without_vacancy,board_columns_without_vacancy):\n",
    "            row_check_list = list(set(row_check))\n",
    "            column_check_list = list(set(column_check))\n",
    "            if ((len(row_check_list) == len(row_check)) and (len(column_check_list) == len(column_check))):\n",
    "                #print (\"correct row and column\")\n",
    "                total_count_of_correct += 1\n",
    "            #else:\n",
    "                #print(\"wrong row or column\")\n",
    "                \n",
    "        if total_count_of_correct == 9:\n",
    "            return True\n",
    "        else:\n",
    "            return False\n",
    "s1 = Solution()\n",
    "s1.isValidSudoku([\n",
    "  [\"5\",\"3\",\".\",\".\",\"7\",\".\",\".\",\".\",\".\"],\n",
    "  [\"6\",\".\",\".\",\"1\",\"9\",\"5\",\".\",\".\",\".\"],\n",
    "  [\".\",\"9\",\"8\",\".\",\".\",\".\",\".\",\"6\",\".\"],\n",
    "  [\"8\",\".\",\".\",\".\",\"6\",\".\",\".\",\".\",\"3\"],\n",
    "  [\"4\",\".\",\".\",\"8\",\".\",\"3\",\".\",\".\",\"1\"],\n",
    "  [\"7\",\".\",\".\",\".\",\"2\",\".\",\".\",\".\",\"6\"],\n",
    "  [\".\",\"6\",\".\",\".\",\".\",\".\",\"2\",\"8\",\".\"],\n",
    "  [\"5\",\".\",\".\",\"4\",\"1\",\"9\",\".\",\".\",\"5\"],\n",
    "  [\".\",\".\",\".\",\".\",\"8\",\".\",\".\",\"7\",\"9\"]\n",
    "])\n",
    "        "
   ]
  },
  {
   "cell_type": "code",
   "execution_count": null,
   "metadata": {},
   "outputs": [],
   "source": []
  }
 ],
 "metadata": {
  "kernelspec": {
   "display_name": "Python 3",
   "language": "python",
   "name": "python3"
  },
  "language_info": {
   "codemirror_mode": {
    "name": "ipython",
    "version": 3
   },
   "file_extension": ".py",
   "mimetype": "text/x-python",
   "name": "python",
   "nbconvert_exporter": "python",
   "pygments_lexer": "ipython3",
   "version": "3.7.0"
  }
 },
 "nbformat": 4,
 "nbformat_minor": 2
}
