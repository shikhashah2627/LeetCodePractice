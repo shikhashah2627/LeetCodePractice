{
 "cells": [
  {
   "cell_type": "code",
   "execution_count": 49,
   "metadata": {},
   "outputs": [
    {
     "name": "stdout",
     "output_type": "stream",
     "text": [
      "['5', '3', '.', '.', '7', '.', '.', '.', '.']\n"
     ]
    }
   ],
   "source": [
    "class Solution:\n",
    "    def isValidSudoku(self, board):\n",
    "        \"\"\"\n",
    "        :type board: List[List[str]]\n",
    "        :rtype: bool\n",
    "        \"\"\"\n",
    "        board_rows_without_vacancy = []\n",
    "        board_columns_without_vacancy = []\n",
    "        total_count_of_correct = 0\n",
    "        new_board = board[1:]\n",
    "        for \n",
    "#         check_column(board[0],board[])\n",
    "        \n",
    "#     def check_column(self, row, board):\n",
    "#         for element in row:\n",
    "#             for row in \n",
    "                \n",
    "            \n",
    "                \n",
    "                        \n",
    "#         for row_check,column_check in zip(board_rows_without_vacancy,board_columns_without_vacancy):\n",
    "#             row_check_list = list(set(row_check))\n",
    "#             column_check_list = list(set(column_check))\n",
    "#             if ((len(row_check_list) == len(row_check)) and (len(column_check_list) == len(column_check))):\n",
    "#                 #print (\"correct row and column\")\n",
    "#                 total_count_of_correct += 1\n",
    "#             #else:\n",
    "#                 #print(\"wrong row or column\")\n",
    "                \n",
    "#         if total_count_of_correct == 9:\n",
    "#             return True\n",
    "#         else:\n",
    "#             return False\n",
    "s1 = Solution()\n",
    "s1.isValidSudoku([\n",
    "  [\"5\",\"3\",\".\",\".\",\"7\",\".\",\".\",\".\",\".\"],\n",
    "  [\"6\",\".\",\".\",\"1\",\"9\",\"5\",\".\",\".\",\".\"],\n",
    "  [\".\",\"9\",\"8\",\".\",\".\",\".\",\".\",\"6\",\".\"],\n",
    "  [\"8\",\".\",\".\",\".\",\"6\",\".\",\".\",\".\",\"3\"],\n",
    "  [\"4\",\".\",\".\",\"8\",\".\",\"3\",\".\",\".\",\"1\"],\n",
    "  [\"7\",\".\",\".\",\".\",\"2\",\".\",\".\",\".\",\"6\"],\n",
    "  [\".\",\"6\",\".\",\".\",\".\",\".\",\"2\",\"8\",\".\"],\n",
    "  [\".\",\".\",\".\",\"4\",\"1\",\"9\",\".\",\".\",\"5\"],\n",
    "  [\".\",\".\",\".\",\".\",\"8\",\".\",\".\",\"7\",\"9\"]\n",
    "])\n",
    "        "
   ]
  },
  {
   "cell_type": "code",
   "execution_count": null,
   "metadata": {},
   "outputs": [],
   "source": []
  }
 ],
 "metadata": {
  "kernelspec": {
   "display_name": "Python 3",
   "language": "python",
   "name": "python3"
  },
  "language_info": {
   "codemirror_mode": {
    "name": "ipython",
    "version": 3
   },
   "file_extension": ".py",
   "mimetype": "text/x-python",
   "name": "python",
   "nbconvert_exporter": "python",
   "pygments_lexer": "ipython3",
   "version": "3.7.0"
  }
 },
 "nbformat": 4,
 "nbformat_minor": 2
}
