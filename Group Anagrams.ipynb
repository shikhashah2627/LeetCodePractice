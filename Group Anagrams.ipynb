{
 "cells": [
  {
   "cell_type": "code",
   "execution_count": 8,
   "metadata": {},
   "outputs": [
    {
     "name": "stdout",
     "output_type": "stream",
     "text": [
      "[['eat', 'tea', 'ate'], ['tan', 'nat'], ['bat']]\n"
     ]
    },
    {
     "data": {
      "text/plain": [
       "[['eat', 'tea', 'ate'], ['tan', 'nat'], ['bat']]"
      ]
     },
     "execution_count": 8,
     "metadata": {},
     "output_type": "execute_result"
    }
   ],
   "source": [
    "def defaultdict(default_type):\n",
    "    class DefaultDict(dict):\n",
    "        def __getitem__(self, key):\n",
    "            if key not in self:\n",
    "                dict.__setitem__(self, key, default_type())\n",
    "            return dict.__getitem__(self, key)\n",
    "    return DefaultDict()\n",
    "    \n",
    "class Solution(object):\n",
    "    def groupAnagrams(self, strs):\n",
    "        list_dict = defaultdict(list)\n",
    "        for s in strs:\n",
    "            list_dict[tuple(sorted(s))].append(s)\n",
    "        # print(list_dict)\n",
    "        final_list = []\n",
    "        for value in list_dict:\n",
    "            final_list.append(list_dict[value])\n",
    "        print(final_list)\n",
    "        return final_list\n",
    "        \n",
    "s1 = Solution()\n",
    "s1.groupAnagrams([\"eat\", \"tea\", \"tan\", \"ate\", \"nat\", \"bat\"])"
   ]
  },
  {
   "cell_type": "code",
   "execution_count": null,
   "metadata": {},
   "outputs": [],
   "source": []
  }
 ],
 "metadata": {
  "kernelspec": {
   "display_name": "Python 3",
   "language": "python",
   "name": "python3"
  },
  "language_info": {
   "codemirror_mode": {
    "name": "ipython",
    "version": 3
   },
   "file_extension": ".py",
   "mimetype": "text/x-python",
   "name": "python",
   "nbconvert_exporter": "python",
   "pygments_lexer": "ipython3",
   "version": "3.7.0"
  }
 },
 "nbformat": 4,
 "nbformat_minor": 2
}
