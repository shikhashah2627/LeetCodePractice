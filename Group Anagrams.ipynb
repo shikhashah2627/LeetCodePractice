{
 "cells": [
  {
   "cell_type": "code",
   "execution_count": 6,
   "metadata": {},
   "outputs": [],
   "source": [
    "class Solution:\n",
    "    def groupAnagrams(self, strs):\n",
    "        \"\"\"\n",
    "        :type strs: List[str]\n",
    "        :rtype: List[List[str]]\n",
    "        \"\"\"\n",
    "        final_word_list = []\n",
    "        used_word = []\n",
    "        for i in range(0,len(strs)):\n",
    "            main_word = strs[i]\n",
    "            word_list = []\n",
    "            if (strs[i] not in used_word):\n",
    "                for j in range(i+1,len(strs)):\n",
    "                    if(sorted(main_word) == sorted(strs[j])):\n",
    "                        if(len(word_list) == 0):\n",
    "                            word_list.append(strs[i])\n",
    "                            word_list.append(strs[j])\n",
    "                            used_word.append(strs[i])\n",
    "                            used_word.append(strs[j])\n",
    "                        else:\n",
    "                            word_list.append(strs[j])\n",
    "                            used_word.append(strs[j])\n",
    "                if(len(word_list) == 0):\n",
    "                    word_list.append(strs[i])\n",
    "                final_word_list.append(word_list)\n",
    "        return final_word_list\n",
    "s1 = Solution()"
   ]
  },
  {
   "cell_type": "code",
   "execution_count": null,
   "metadata": {},
   "outputs": [],
   "source": []
  }
 ],
 "metadata": {
  "kernelspec": {
   "display_name": "Python 3",
   "language": "python",
   "name": "python3"
  },
  "language_info": {
   "codemirror_mode": {
    "name": "ipython",
    "version": 3
   },
   "file_extension": ".py",
   "mimetype": "text/x-python",
   "name": "python",
   "nbconvert_exporter": "python",
   "pygments_lexer": "ipython3",
   "version": "3.7.0"
  }
 },
 "nbformat": 4,
 "nbformat_minor": 2
}
