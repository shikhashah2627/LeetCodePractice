{
 "cells": [
  {
   "cell_type": "code",
   "execution_count": 4,
   "metadata": {},
   "outputs": [
    {
     "name": "stdout",
     "output_type": "stream",
     "text": [
      "[['hos'], ['boo'], ['nay'], ['deb', 'deb'], ['wow'], ['bop'], ['bob'], ['brr'], ['hey'], ['rye'], ['eve'], ['elf'], ['pup', 'pup'], ['bum'], ['iva'], ['lyx'], ['yap'], ['ugh', 'ugh'], ['hem'], ['rod'], ['aha'], ['nam'], ['gap'], ['yea'], ['doc'], ['pen'], ['job'], ['dis'], ['max'], ['oho'], ['jed'], ['lye'], ['ram'], ['qua'], ['mir'], ['nap'], ['hog'], ['let'], ['gym'], ['bye'], ['lon'], ['aft'], ['eel'], ['sol'], ['jab']]\n"
     ]
    },
    {
     "data": {
      "text/plain": [
       "[['hos'],\n",
       " ['boo'],\n",
       " ['nay'],\n",
       " ['deb', 'deb'],\n",
       " ['wow'],\n",
       " ['bop'],\n",
       " ['bob'],\n",
       " ['brr'],\n",
       " ['hey'],\n",
       " ['rye'],\n",
       " ['eve'],\n",
       " ['elf'],\n",
       " ['pup', 'pup'],\n",
       " ['bum'],\n",
       " ['iva'],\n",
       " ['lyx'],\n",
       " ['yap'],\n",
       " ['ugh', 'ugh'],\n",
       " ['hem'],\n",
       " ['rod'],\n",
       " ['aha'],\n",
       " ['nam'],\n",
       " ['gap'],\n",
       " ['yea'],\n",
       " ['doc'],\n",
       " ['pen'],\n",
       " ['job'],\n",
       " ['dis'],\n",
       " ['max'],\n",
       " ['oho'],\n",
       " ['jed'],\n",
       " ['lye'],\n",
       " ['ram'],\n",
       " ['qua'],\n",
       " ['mir'],\n",
       " ['nap'],\n",
       " ['hog'],\n",
       " ['let'],\n",
       " ['gym'],\n",
       " ['bye'],\n",
       " ['lon'],\n",
       " ['aft'],\n",
       " ['eel'],\n",
       " ['sol'],\n",
       " ['jab']]"
      ]
     },
     "execution_count": 4,
     "metadata": {},
     "output_type": "execute_result"
    }
   ],
   "source": [
    "from itertools import permutations \n",
    "class Solution:\n",
    "    def groupAnagrams(self, strs):\n",
    "        \"\"\"\n",
    "        :type strs: List[str]\n",
    "        :rtype: List[List[str]]\n",
    "        \"\"\"\n",
    "        final_combination_as_list = []\n",
    "        group_Anagrams = []\n",
    "        used_words = []\n",
    "        for each_word in strs:\n",
    "            perm_list = []\n",
    "            perm = permutations(each_word)\n",
    "            for each_perm in perm:\n",
    "                word = ''\n",
    "                word = word.join(each_perm)\n",
    "                perm_list.append(word)\n",
    "            final_combination_as_list.append(perm_list)\n",
    "        for each_per_index in range(0,len(final_combination_as_list)):\n",
    "            matched_words = []\n",
    "            # print(final_combination_as_list[each_per_index])\n",
    "            if(final_combination_as_list[each_per_index][0] in used_words):\n",
    "                exit\n",
    "            else:\n",
    "                for i in range(each_per_index+1,len(final_combination_as_list)):\n",
    "                    if (len(set(final_combination_as_list[each_per_index]).intersection(set(final_combination_as_list[i]))) == len(set(final_combination_as_list[each_per_index]))):\n",
    "                        # print(final_combination_as_list[each_per_index])\n",
    "                        # print(final_combination_as_list[i])\n",
    "                        if (final_combination_as_list[each_per_index][0] not in matched_words):\n",
    "                            matched_words.append(final_combination_as_list[each_per_index][0])\n",
    "                            matched_words.append(final_combination_as_list[i][0])\n",
    "                            used_words.append(final_combination_as_list[each_per_index][0])\n",
    "                            used_words.append(final_combination_as_list[i][0])\n",
    "                        else:\n",
    "                            matched_words.append(final_combination_as_list[i][0])\n",
    "                            used_words.append(final_combination_as_list[i][0])\n",
    "                if(len(matched_words) == 0):\n",
    "                            matched_words.append(final_combination_as_list[each_per_index][0])\n",
    "                group_Anagrams.append(matched_words)\n",
    "        print(group_Anagrams)\n",
    "        return group_Anagrams    \n",
    "        \n",
    "s1 = Solution()\n",
    "s1.groupAnagrams([\"hos\",\"boo\",\"nay\",\"deb\",\n",
    "                  \"wow\",\"bop\",\"bob\",\"brr\",\n",
    "                  \"hey\",\"rye\",\"eve\",\"elf\",\n",
    "                  \"pup\",\"bum\",\"iva\",\"lyx\",\"yap\",\n",
    "                  \"ugh\",\"hem\",\"rod\",\"aha\",\"nam\",\n",
    "                  \"gap\",\"yea\",\"doc\",\"pen\",\"job\",\"dis\",\n",
    "                  \"max\",\"oho\",\"jed\",\"lye\",\"ram\",\"pup\",\n",
    "                  \"qua\",\"ugh\",\"mir\",\"nap\",\"deb\",\"hog\",\"let\",\"gym\",\n",
    "                  \"bye\",\"lon\",\"aft\",\"eel\",\"sol\",\"jab\"])"
   ]
  },
  {
   "cell_type": "code",
   "execution_count": null,
   "metadata": {},
   "outputs": [],
   "source": []
  }
 ],
 "metadata": {
  "kernelspec": {
   "display_name": "Python 3",
   "language": "python",
   "name": "python3"
  },
  "language_info": {
   "codemirror_mode": {
    "name": "ipython",
    "version": 3
   },
   "file_extension": ".py",
   "mimetype": "text/x-python",
   "name": "python",
   "nbconvert_exporter": "python",
   "pygments_lexer": "ipython3",
   "version": "3.7.0"
  }
 },
 "nbformat": 4,
 "nbformat_minor": 2
}
