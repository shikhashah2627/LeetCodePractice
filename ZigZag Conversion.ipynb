{
 "cells": [
  {
   "cell_type": "code",
   "execution_count": 36,
   "metadata": {},
   "outputs": [
    {
     "name": "stdout",
     "output_type": "stream",
     "text": [
      "0\n",
      "0\n"
     ]
    },
    {
     "ename": "IndexError",
     "evalue": "list index out of range",
     "output_type": "error",
     "traceback": [
      "\u001b[0;31m---------------------------------------------------------------------------\u001b[0m",
      "\u001b[0;31mIndexError\u001b[0m                                Traceback (most recent call last)",
      "\u001b[0;32m<ipython-input-36-8af6e90f2597>\u001b[0m in \u001b[0;36m<module>\u001b[0;34m()\u001b[0m\n\u001b[1;32m     45\u001b[0m         \u001b[0;32mreturn\u001b[0m \u001b[0mfinal_word\u001b[0m\u001b[0;34m\u001b[0m\u001b[0m\n\u001b[1;32m     46\u001b[0m \u001b[0ms1\u001b[0m \u001b[0;34m=\u001b[0m \u001b[0mSolution\u001b[0m\u001b[0;34m(\u001b[0m\u001b[0;34m)\u001b[0m\u001b[0;34m\u001b[0m\u001b[0m\n\u001b[0;32m---> 47\u001b[0;31m \u001b[0ms1\u001b[0m\u001b[0;34m.\u001b[0m\u001b[0mconvert\u001b[0m\u001b[0;34m(\u001b[0m\u001b[0;34m'PAYPALISHIRING'\u001b[0m\u001b[0;34m,\u001b[0m\u001b[0;36m3\u001b[0m\u001b[0;34m)\u001b[0m\u001b[0;34m\u001b[0m\u001b[0m\n\u001b[0m",
      "\u001b[0;32m<ipython-input-36-8af6e90f2597>\u001b[0m in \u001b[0;36mconvert\u001b[0;34m(self, s, numRows)\u001b[0m\n\u001b[1;32m     22\u001b[0m                     \u001b[0mprint\u001b[0m\u001b[0;34m(\u001b[0m\u001b[0minitial_row_count\u001b[0m\u001b[0;34m)\u001b[0m\u001b[0;34m\u001b[0m\u001b[0m\n\u001b[1;32m     23\u001b[0m                     \u001b[0mprint\u001b[0m\u001b[0;34m(\u001b[0m\u001b[0minitial_col_count\u001b[0m\u001b[0;34m)\u001b[0m\u001b[0;34m\u001b[0m\u001b[0m\n\u001b[0;32m---> 24\u001b[0;31m                     \u001b[0mlist_distribution\u001b[0m\u001b[0;34m[\u001b[0m\u001b[0minitial_row_count\u001b[0m\u001b[0;34m]\u001b[0m\u001b[0;34m[\u001b[0m\u001b[0minitial_col_count\u001b[0m\u001b[0;34m]\u001b[0m\u001b[0;34m.\u001b[0m\u001b[0mappend\u001b[0m\u001b[0;34m(\u001b[0m\u001b[0meach_letter\u001b[0m\u001b[0;34m)\u001b[0m\u001b[0;34m\u001b[0m\u001b[0m\n\u001b[0m\u001b[1;32m     25\u001b[0m                     \u001b[0minitial_row_count\u001b[0m \u001b[0;34m+=\u001b[0m \u001b[0;36m1\u001b[0m\u001b[0;34m\u001b[0m\u001b[0m\n\u001b[1;32m     26\u001b[0m                 \u001b[0;32melif\u001b[0m\u001b[0;34m(\u001b[0m\u001b[0;34m(\u001b[0m\u001b[0minitial_row_count\u001b[0m \u001b[0;34m==\u001b[0m \u001b[0mnumRows\u001b[0m\u001b[0;34m-\u001b[0m\u001b[0;36m1\u001b[0m\u001b[0;34m)\u001b[0m \u001b[0;32mand\u001b[0m \u001b[0;34m(\u001b[0m\u001b[0minitial_col_count\u001b[0m \u001b[0;34m==\u001b[0m \u001b[0;36m0\u001b[0m\u001b[0;34m)\u001b[0m\u001b[0;34m)\u001b[0m\u001b[0;34m:\u001b[0m\u001b[0;34m\u001b[0m\u001b[0m\n",
      "\u001b[0;31mIndexError\u001b[0m: list index out of range"
     ]
    }
   ],
   "source": [
    "class Solution:\n",
    "    def convert(self, s, numRows):\n",
    "        \"\"\"\n",
    "        :type s: str\n",
    "        :type numRows: int\n",
    "        :rtype: str\n",
    "        \"\"\"\n",
    "        given_word = list(s)\n",
    "        list_distribution = []\n",
    "        unused_words = []\n",
    "        length_given_word = len(given_word)\n",
    "        final_word = ''\n",
    "        if (length_given_word < numRows):\n",
    "            return given_word\n",
    "        else:\n",
    "            initial_row_count = 0\n",
    "            initial_col_count = 0\n",
    "            for i in range(0,numRows):\n",
    "                list_distribution.append([])\n",
    "            for each_letter in given_word:\n",
    "                if((initial_row_count < numRows-1) and (initial_col_count == 0)):\n",
    "                    print(initial_row_count)\n",
    "                    print(initial_col_count)\n",
    "                    list_distribution[initial_row_count][initial_col_count].append(each_letter)\n",
    "                    initial_row_count += 1\n",
    "                elif((initial_row_count == numRows-1) and (initial_col_count == 0)):\n",
    "                    print(initial_row_count)\n",
    "                    print(initial_col_count)\n",
    "                    initial_col_count += 1\n",
    "                    initial_row_count -= 1\n",
    "                    list_distribution[initial_row_count][initial_col_count].append(each_letter)\n",
    "                elif((initial_row_count < numRows-1) and (initial_col_count != 0)):\n",
    "                    print(initial_row_count)\n",
    "                    print(initial_col_count)\n",
    "                    initial_col_count += 1\n",
    "                    initial_row_count -= 1\n",
    "                    list_distribution[initial_row_count][initial_col_count].append(each_letter)\n",
    "                    \n",
    "                     \n",
    "                        \n",
    "        print(list_distribution)\n",
    "        print(unused_words)\n",
    "        # final join for the list of list\n",
    "        final_word = final_word.join([j for i in list_distribution for j in i])\n",
    "        return final_word\n",
    "s1 = Solution()\n",
    "s1.convert('PAYPALISHIRING',3)"
   ]
  },
  {
   "cell_type": "code",
   "execution_count": null,
   "metadata": {},
   "outputs": [],
   "source": []
  }
 ],
 "metadata": {
  "kernelspec": {
   "display_name": "Python 3",
   "language": "python",
   "name": "python3"
  },
  "language_info": {
   "codemirror_mode": {
    "name": "ipython",
    "version": 3
   },
   "file_extension": ".py",
   "mimetype": "text/x-python",
   "name": "python",
   "nbconvert_exporter": "python",
   "pygments_lexer": "ipython3",
   "version": "3.7.0"
  }
 },
 "nbformat": 4,
 "nbformat_minor": 2
}
