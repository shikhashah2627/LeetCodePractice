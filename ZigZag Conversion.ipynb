{
 "cells": [
  {
   "cell_type": "code",
   "execution_count": 126,
   "metadata": {},
   "outputs": [
    {
     "data": {
      "text/plain": [
       "'AEBDC'"
      ]
     },
     "execution_count": 126,
     "metadata": {},
     "output_type": "execute_result"
    }
   ],
   "source": [
    "class Solution:\n",
    "    def convert(self, s, numRows):\n",
    "        \"\"\"\n",
    "        :type s: str\n",
    "        :type numRows: int\n",
    "        :rtype: str\n",
    "        \"\"\"\n",
    "        given_word = list(s)\n",
    "        list_distribution = []\n",
    "        length_given_word = len(given_word)\n",
    "        final_word_list = []\n",
    "        final_word = ''\n",
    "        if (length_given_word <= numRows):\n",
    "            return s\n",
    "        else:\n",
    "            if (numRows == 1):\n",
    "                return s\n",
    "            elif (numRows == 2):\n",
    "                initial_row_count = 0\n",
    "                initial_col_count = 0\n",
    "                for i in range(0,numRows):\n",
    "                    list_distribution.append([])\n",
    "                for each_letter in given_word:\n",
    "                    if(initial_row_count == 0 and initial_col_count == 0):\n",
    "                        list_distribution[initial_row_count].append([])\n",
    "                        list_distribution[initial_row_count][initial_col_count].append(each_letter)\n",
    "                        initial_row_count += 1\n",
    "                    elif(initial_row_count == 1 and initial_col_count == 0):\n",
    "                        list_distribution[initial_row_count].append([])\n",
    "                        list_distribution[initial_row_count][initial_col_count].append(each_letter)\n",
    "                        initial_row_count -= 1\n",
    "                        initial_col_count += 1\n",
    "                    elif(initial_row_count == 0 and initial_col_count != 0):\n",
    "                        list_distribution[initial_row_count+1].append([])\n",
    "                        list_distribution[initial_row_count].append([])\n",
    "                        list_distribution[initial_row_count][initial_col_count].append(each_letter)\n",
    "                        initial_row_count += 1\n",
    "                        initial_col_count += 1\n",
    "                    elif(initial_row_count == 1 and initial_col_count != 0):\n",
    "                        list_distribution[initial_row_count-1].append([])\n",
    "                        list_distribution[initial_row_count].append([])\n",
    "                        list_distribution[initial_row_count][initial_col_count].append(each_letter)\n",
    "                        initial_row_count -= 1\n",
    "                        initial_col_count += 1      \n",
    "            else:\n",
    "                initial_row_count = 0\n",
    "                initial_col_count = 0\n",
    "                single_column = 0\n",
    "                count = 1\n",
    "                for i in range(0,numRows):\n",
    "                    list_distribution.append([])\n",
    "                for each_letter in given_word:\n",
    "                    if (initial_row_count < numRows - 1 and initial_col_count == 0):\n",
    "                        list_distribution[initial_row_count].append([])\n",
    "                        list_distribution[initial_row_count][initial_col_count].append(each_letter)\n",
    "                        initial_row_count += 1\n",
    "                    elif (initial_row_count == numRows - 1 and initial_col_count == 0):\n",
    "                        list_distribution[initial_row_count].append([])\n",
    "                        list_distribution[initial_row_count][initial_col_count].append(each_letter)\n",
    "                        initial_row_count -= 1\n",
    "                        initial_col_count += 1\n",
    "                        single_column = 1\n",
    "                    elif (initial_row_count < numRows - 1 and single_column == 0):\n",
    "                        list_distribution[initial_row_count].append([])\n",
    "                        list_distribution[initial_row_count][initial_col_count].append(each_letter) \n",
    "                        initial_row_count += 1\n",
    "                    elif (initial_row_count != 0 and single_column == 1 ):\n",
    "                        for i in range(0,numRows):\n",
    "                            list_distribution[i].append([])\n",
    "                        list_distribution[initial_row_count].append([])\n",
    "                        list_distribution[initial_row_count][initial_col_count].append(each_letter)        \n",
    "                        initial_row_count -= 1\n",
    "                        initial_col_count += 1\n",
    "                        if (initial_row_count == 0):\n",
    "                            single_column = 0\n",
    "                    elif (initial_row_count == numRows - 1 and single_column == 0):\n",
    "                        list_distribution[initial_row_count].append([])\n",
    "                        list_distribution[initial_row_count][initial_col_count].append(each_letter)\n",
    "                        initial_row_count -= 1\n",
    "                        initial_col_count += 1\n",
    "                        single_column = 1  \n",
    "        for row in list_distribution:\n",
    "            for col in row:\n",
    "                if(len(col) != 0):\n",
    "                    final_word_list.append(col[0])\n",
    "        final_word = final_word.join(final_word_list)                 \n",
    "        return final_word\n",
    "s1 = Solution()\n",
    "s1.convert('ABCDE',3)"
   ]
  },
  {
   "cell_type": "code",
   "execution_count": 63,
   "metadata": {},
   "outputs": [],
   "source": [
    "a = ['1','2','3']\n",
    "x = a[0:]"
   ]
  },
  {
   "cell_type": "code",
   "execution_count": 47,
   "metadata": {},
   "outputs": [
    {
     "data": {
      "text/plain": [
       "['1', '2', '3']"
      ]
     },
     "execution_count": 47,
     "metadata": {},
     "output_type": "execute_result"
    }
   ],
   "source": [
    "x"
   ]
  },
  {
   "cell_type": "code",
   "execution_count": 94,
   "metadata": {},
   "outputs": [
    {
     "data": {
      "text/plain": [
       "[['P'], ['x'], ['a'], ['b']]"
      ]
     },
     "execution_count": 94,
     "metadata": {},
     "output_type": "execute_result"
    }
   ],
   "source": [
    "x = [[['P'], ['x']],[['a'],['b']]]\n",
    "[a for b in x for a in b]"
   ]
  },
  {
   "cell_type": "code",
   "execution_count": 98,
   "metadata": {},
   "outputs": [
    {
     "data": {
      "text/plain": [
       "['P', 'x', 'a', 'b']"
      ]
     },
     "execution_count": 98,
     "metadata": {},
     "output_type": "execute_result"
    }
   ],
   "source": [
    "[c for b in x for a in b for c in a]"
   ]
  },
  {
   "cell_type": "code",
   "execution_count": 108,
   "metadata": {},
   "outputs": [],
   "source": [
    "list_distribution = []\n",
    "for i in range(0,1):\n",
    "                list_distribution.append([])"
   ]
  },
  {
   "cell_type": "code",
   "execution_count": 109,
   "metadata": {},
   "outputs": [
    {
     "data": {
      "text/plain": [
       "[[]]"
      ]
     },
     "execution_count": 109,
     "metadata": {},
     "output_type": "execute_result"
    }
   ],
   "source": [
    "list_distribution"
   ]
  },
  {
   "cell_type": "code",
   "execution_count": 110,
   "metadata": {},
   "outputs": [
    {
     "name": "stdout",
     "output_type": "stream",
     "text": [
      "[[['P']], [['A']]]\n"
     ]
    },
    {
     "data": {
      "text/plain": [
       "'PA'"
      ]
     },
     "execution_count": 110,
     "metadata": {},
     "output_type": "execute_result"
    }
   ],
   "source": [
    "s1.convert('PAYPALISHIRING',2)"
   ]
  },
  {
   "cell_type": "code",
   "execution_count": null,
   "metadata": {},
   "outputs": [],
   "source": []
  }
 ],
 "metadata": {
  "kernelspec": {
   "display_name": "Python 3",
   "language": "python",
   "name": "python3"
  },
  "language_info": {
   "codemirror_mode": {
    "name": "ipython",
    "version": 3
   },
   "file_extension": ".py",
   "mimetype": "text/x-python",
   "name": "python",
   "nbconvert_exporter": "python",
   "pygments_lexer": "ipython3",
   "version": "3.7.0"
  }
 },
 "nbformat": 4,
 "nbformat_minor": 2
}
